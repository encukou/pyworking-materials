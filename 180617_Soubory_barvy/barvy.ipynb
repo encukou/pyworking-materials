{
 "cells": [
  {
   "cell_type": "markdown",
   "metadata": {},
   "source": [
    "Tyto materiály obsahují interaktivní prvky, které potřebují následující instalace (v aktivním virtuálním prostředí):\n",
    "\n",
    "```console\n",
    "$ pip install ipywidgets\n",
    "$ jupyter nbextension enable --py widgetsnbextension--sys-prefix\n",
    "```\n",
    "\n",
    "(viz [Jupyter Widgets installation](https://ipywidgets.readthedocs.io/en/latest/user_install.html))\n",
    "\n",
    "Notebook je potřeba stáhnout a pustit, v náhledu na GitHubu nebude vše fungovat.\n"
   ]
  },
  {
   "cell_type": "markdown",
   "metadata": {},
   "source": [
    "# Barvy\n",
    "\n",
    "## Co je to barva?\n",
    "\n",
    "* Vlastnost světla (na semaforu svítí červená)?\n",
    "* Vlastnost matriálu (tráva je zelená)?\n",
    "* Smyslový vjem?\n",
    "\n",
    "Barva je všechno z toho – nebo ještě líp, kombinace všech tří možností."
   ]
  },
  {
   "cell_type": "markdown",
   "metadata": {},
   "source": [
    "## Světlo\n",
    "\n",
    "Světlo je složeno z fotonů. Kždý foton má nějakou energii/vlnovou délku/barvu (co jsou, když se bavíme o fotonech, tři způsoby jak měřit/popsat tu samou vlastnost).\n",
    "\n",
    "Fotony s vlnovou délkou mezi zhruba 400 až 700 nm tvoří spektrum *viditelného světla* – reaguje na ně lidské oko.\n",
    "\n",
    "Každá vlnová délka odpovídá určité barvě – červené, oranžové, zelené, modré, ...:\n",
    "\n",
    "![Spektrum](linear_visible_spectrum.svg)"
   ]
  },
  {
   "cell_type": "markdown",
   "metadata": {},
   "source": [
    "Existují speciální zdroje světla, lasery, které vysílají fotony které mají všechny stejnou vlnovou délku.\n",
    "Ty umí tu vytvořit tu nejsytější zelenou (nebo červenou, …) barvu, jaká je fyzikálně možná.\n",
    "\n",
    "Tradiční zdroje světla, kde je něco žhavého – oheň, Slunce, žárovka – vysílají mix spousty různých fotonů. Takové světlo nemá sytou barvu; jeví se nám jako bílé.\n",
    "\n",
    "Další zdroje světla jsou LED, které vysílají něco mezi laserem a žárovkou: mix několika podobných vlnových délek. Modrá LED nesvítí tak exaktně sytě modře jako modrý laser, ale pořád je to modrá."
   ]
  },
  {
   "cell_type": "markdown",
   "metadata": {},
   "source": [
    "Co se stane, když začneme míchat světlo z dvou LED různých barev?\n",
    "\n",
    "Následující demo není vecky přesné, ale princip ukáže. (Je potřeba si tenhle Notebook stáhnout a pustit, v náhledu na GitHubu to nebude fungovat.)"
   ]
  },
  {
   "cell_type": "code",
   "execution_count": 1,
   "metadata": {},
   "outputs": [
    {
     "data": {
      "application/vnd.jupyter.widget-view+json": {
       "model_id": "b4a5503c150e474abc4178283f21d7ba",
       "version_major": 2,
       "version_minor": 0
      },
      "text/plain": [
       "interactive(children=(FloatSlider(value=0.0, description='<span style=\"color:rgb(89, 12, 254)\">460nm</span>', …"
      ]
     },
     "metadata": {},
     "output_type": "display_data"
    }
   ],
   "source": [
    "from mix_demo import mix_demo\n",
    "\n",
    "mix_demo({\"460nm\": (89, 12, 254), \"620nm\": (254, 0, 54)})"
   ]
  },
  {
   "cell_type": "markdown",
   "metadata": {},
   "source": [
    "Smícháním červeného a modrého světla dostaneme fialové.\n",
    "V obrázku spektra výše si můžeš všimnout, že <span style=\"color:#FF00FF\">purpurové</span> barvě neodpovídá žádná vlnová délka. Purpurové fotony neexistují; purpurová vždycky vzniká smícháním několika různých barev fotonů.\n",
    "\n",
    "Abychom si zobrazili mapu toho, co se tu děje, vezměme viditelné spektrum a ohněme ho do oblouku. Nějak takhle:\n",
    "\n",
    "![Bent spectrum](cie1931xy_border.svg)\n"
   ]
  },
  {
   "cell_type": "markdown",
   "metadata": {},
   "source": [
    "Pak do něj jdou doplnit fialové odstíny, které vznikají mícháním červeného a modrého světla:\n",
    "\n",
    "![Bent spectrum with purple](cie1931xy_purple.svg)"
   ]
  },
  {
   "cell_type": "markdown",
   "metadata": {},
   "source": [
    "Zkusme si mapu doplnit tak, že smícháme tři barvy:"
   ]
  },
  {
   "cell_type": "code",
   "execution_count": 2,
   "metadata": {},
   "outputs": [
    {
     "data": {
      "application/vnd.jupyter.widget-view+json": {
       "model_id": "d72adfe9296d41dba47f9a0375571b9b",
       "version_major": 2,
       "version_minor": 0
      },
      "text/plain": [
       "interactive(children=(FloatSlider(value=0.0, description='<span style=\"color:rgb(254, 0, 54)\">620nm</span>', m…"
      ]
     },
     "metadata": {},
     "output_type": "display_data"
    }
   ],
   "source": [
    "mix_demo({\"620nm\": (254, 0, 54), \"540nm\": (0, 254, 120), \"460nm\": (89, 12, 254)})"
   ]
  },
  {
   "cell_type": "markdown",
   "metadata": {},
   "source": [
    "Mapa se už začíná plnit:\n",
    "\n",
    "![Bent spectrum with big triangle](cie1931xy_gamut.svg)\n",
    "\n",
    "Celá vypadá nějak takhle:\n",
    "\n",
    "![CIE 1931 XY color space](cie1931xy_full.svg)\n",
    "\n",
    "Tenhle diagram reprezentuje všechny barvy, které jsou fyzikálně možné.\n",
    "Není ale zobrazený přesně.\n",
    "Monitor počítače totiž barvy skládá ze tří základních barev, které samotné už nejsou úplně syté. Podobně jako trojúhelník vzniklý mícháním <span class=\"color:rgb(254,0,54)\">620nm</span>, <span class=\"color:rgb(254,0,54)\">540nm</span> a <span class=\"color:rgb(89,12,254)\">460nm</span> fotonů nepokrýval celou mapu, ani zobrazovací schopnosti monitoru ji nepokrývají.\n",
    "\n",
    "Každá obrazovka se chová jinak, ale typicky je rozsah (tzv. *gamut*) zobrazitelných barev asi takovýhle:\n",
    "\n",
    "![Approximate sRGB gamut](cie1931xy_rgb.svg)\n",
    "\n",
    "Bílé oblasti v téhle mapě odpovídají barvám, které na monitoru nikdy neuvidíš.\n",
    "Na předchozích diaramech jsem je nahradil nejbližší zobrazitelnou barvou.\n",
    "\n",
    "(Těch bílých míst je docela hodně. O důvod víc vyrazit od počítače ven!)"
   ]
  },
  {
   "cell_type": "markdown",
   "metadata": {},
   "source": [
    "## Materiál\n",
    "\n",
    "Když světlo narazí na nějaký předmět, může se od něj odrazit, nebo ho předmět může pohltit.\n",
    "Co z toho se stane, závisí na materiálu a na barvě (vlnové délce) fotonu.\n",
    "\n",
    "Třeba listy rostlin umí měnit modré a červené světlo na energii – pohlcují ho. Zelené světlo jim ale moc „nechutná“, tak ho odráží zkpátky – a my pak vidíme, že listy jsou zelené.\n",
    "\n",
    "„Barvou“ materiálu popisujeme, jakou barvy světla materiál odráží. Většinou je to docela jednoduché, ale existuje spousta a spousta komplikací, například:\n",
    "\n",
    "* Sklem světlo prochází, ale každá barva trochu jinak – skleněný hranol paprsek světla „rozloží“.\n",
    "* Podobně někteří střevlíci (nebo ochranné prvky na platebních kartách) odrážejí různé barvy do různých směrů.\n",
    "* Fluorescenční materiály mění neviditelné ultrafialové světlo (pod 450 nm) na viditelné.\n",
    "\n",
    "Problematika je to zajímavá, ale my do detailů zabíhat nebudeme. Snad jen zmíním, že dostat stejnou barvu na obrazovce počítače jako na vytištěné fotografii je docela oříšek – barva světla a barva materiálu jsou úplně rozdílné koncepty."
   ]
  },
  {
   "cell_type": "markdown",
   "metadata": {},
   "source": [
    "## Oko\n",
    "\n",
    "V počítačové grafice se všechno točí kolem lidských očí, kam směs fotonů nakonec doletí.\n",
    "Typické lidské oko má tři druhy senzorů barvy – čípky.\n",
    "Každý reaguje na jinou část spektra – modrou, zelenou a červenou. Následující graf ukazuje, jak je který druh čípku citlivý na jakou barvu fotonu:\n",
    "\n",
    "![Spektrální senzitivita čípků oka](cone-fundamentals-with-srgb-spectrum.png)"
   ]
  },
  {
   "cell_type": "markdown",
   "metadata": {},
   "source": [
    "Například žluté světlo 580nm aktivuje jak čípky pro zelenou barvu, tak i pro červenou.\n",
    "\n",
    "Podobný efekt by ale měla směs zeleného a červeného světla, řekněme 540nm a 630nm. První aktuvuje „zelené“ čípky, druhé „červené“.\n",
    "\n",
    "Celé spektrum se tak v oku redukuje na tři hodnoty – kolik je světla modrého, kolik zeleného, a kolik červeného. Barvy mezi tím si mozek domýšlí: když vidí zelenou a červenou na jednom místě, interpretuje to jako žlutou – i kdyby ve skutečnosti žádný žlutý foton nepřiletěl.\n",
    "\n",
    "A v počítačové grafice (nebo i v klasické barevné fotografii, té na film) toho využíváme na maximum. Posíláme do očí jenom tři druhy fotonů – červené (angl. **R**ed), zelené (angl. **G**reen) a modré (angl. **B**lue), a zbytek necháváme na mozku – on si to domyslí.\n",
    "\n",
    "Obrázky na obrazovce tak dávají smysl lidem. Ale psi, včely nebo jiná zvířata která mají čípky (nebo jejich ekvivalenty) citlivé na jiné části spektra, z nich nic nemají. (A to nemluvě o krevetách řádu *Stomatopoda*, které spektrum snímkují pomocí šestnácti druhů čípků. Proti těm jsme všichni barvoslepí!)"
   ]
  },
  {
   "cell_type": "markdown",
   "metadata": {},
   "source": [
    "## Barevné souřadnice\n",
    "\n",
    "Barva pro počítač tedy jde popsat třemi čísly: intenzitami jednotlivých barevných složek. Jde tak popsat nejen odstín, o kterém jsme se tu zatím bavili, ale i intenzita – jak moc to svítí, kolik fotonů vylétá, jak málo je to černé.\n",
    "\n",
    "Není to jediný způsob, jak popsat barvu určenou pro lidské pozorovatele. Systémů popisů barev je víc, například:. \n",
    "\n",
    "* RGB – intenzita červené, zelené a modré složky světla\n",
    "* CMYK – intenzita azurové (cyan), purpurové (magenta) a žluté (yellow) barvy (K, černá, se přidává z technických důvodů – barvy na papír jsou složité)\n",
    "* [HSL](http://en.wikipedia.org/wiki/HSL_and_HSV) – odstín (hue), sytost (stauration) a jas (lightness)\n",
    "* [Lab](https://en.wikipedia.org/wiki/CIELAB_color_space) – systém souřadnic navržený tak, aby odrážel jak barvy vnímá člověk\n",
    "\n",
    "Konkrétní barva se dá uvést v jakémkoli z těchto formátů, a dají se tak mezi sebou převádět (více či méně přesně a více či méně náročně).\n",
    "\n",
    "(Všechny tyhle způsoby mají jedno společné: obsahují alespoň tři hodnoty.\n",
    "Princip je podobný tomu, že poloha bodu v rovině se dá popsat v kartézských souřadnicích – *x*, *y* – nebo v souřadnicích polárních – vzdálenost a úhel. Vždy jde ale o dvě hodnoty, protože rovina je dvourozměrná.)"
   ]
  },
  {
   "cell_type": "markdown",
   "metadata": {},
   "source": [
    "## Postprocessing v mozku\n",
    "\n",
    "Jak už víme, světlo dopadající do našeho oka závisí jak na *zdroji světla* tak na *materiálu*, od kterého se odráží.\n",
    "Historicky bylo pro člověka hlavní rozpoznat materiál. To, jestli je nasvícen plným denním světlem, nočním ohněm nebo načervenalým západem slunce, je vedlejší.\n",
    "Náš mozek proto při zpracování obrazové informace barvu, kterou dostane z očí, koriguje podle toho, jak je barevné okolí.\n",
    "\n",
    "Možná znáš fotku šatů, které pro některé lidi vypadají jako modré a černé a pro jiné jako bílé a zlaté.\n",
    "Tenhle optický klam lze vložit do jednoho obrázku. Barvy ve zvýrazněných obdélnících jsou identické:\n",
    "\n",
    "![Obrázek modrých/černých nebo bílých/zlatých šatů](the_dress_reduced.svg)\n",
    "\n",
    "> Obrázek šatů z [Wikipedie](https://en.wikipedia.org/wiki/File:Wikipe-tan_wearing_The_Dress_reduced.svg): Figure design by <a href=\"https://ja.wikipedia.org/wiki/User:Kasuga~jawiki\" class=\"extiw\" title=\"ja:User:Kasuga~jawiki\">Kasuga~jawiki</a>; vectorization by <a href=\"//commons.wikimedia.org/wiki/User:Editor_at_Large\" title=\"User:Editor at Large\">Editor at Large</a>; \"The dress\" modification by <a href=\"//commons.wikimedia.org/wiki/User:Jahobr\" title=\"User:Jahobr\">Jahobr</a>"
   ]
  }
 ],
 "metadata": {
  "kernelspec": {
   "display_name": "Python 3",
   "language": "python",
   "name": "python3"
  },
  "language_info": {
   "codemirror_mode": {
    "name": "ipython",
    "version": 3
   },
   "file_extension": ".py",
   "mimetype": "text/x-python",
   "name": "python",
   "nbconvert_exporter": "python",
   "pygments_lexer": "ipython3",
   "version": "3.6.5"
  }
 },
 "nbformat": 4,
 "nbformat_minor": 2
}
